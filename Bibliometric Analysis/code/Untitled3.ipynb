{
  "nbformat": 4,
  "nbformat_minor": 0,
  "metadata": {
    "colab": {
      "provenance": [],
      "include_colab_link": true
    },
    "kernelspec": {
      "name": "python3",
      "display_name": "Python 3"
    },
    "language_info": {
      "name": "python"
    }
  },
  "cells": [
    {
      "cell_type": "markdown",
      "metadata": {
        "id": "view-in-github",
        "colab_type": "text"
      },
      "source": [
        "<a href=\"https://colab.research.google.com/github/kesavakrishna/Bid-ask-spread/blob/main/Bibliometric%20Analysis/code/Untitled3.ipynb\" target=\"_parent\"><img src=\"https://colab.research.google.com/assets/colab-badge.svg\" alt=\"Open In Colab\"/></a>"
      ]
    },
    {
      "cell_type": "code",
      "execution_count": 1,
      "metadata": {
        "id": "mYdUUpvZ_B9k",
        "colab": {
          "base_uri": "https://localhost:8080/"
        },
        "outputId": "a12ac6f9-ca02-4b2d-b3cb-f974f5c97a05"
      },
      "outputs": [
        {
          "output_type": "stream",
          "name": "stdout",
          "text": [
            "Author Publication Counts:\n",
            "Frank J., Garcia P.                3\n",
            "Bleaney M., Li Z.                  3\n",
            "Theissen E.                        2\n",
            "Li Z., Lambe B., Adegbite E.       2\n",
            "Le H., Gregoriou A.                2\n",
            "                                  ..\n",
            "Abdi F., Ranaldo A.                1\n",
            "Liu Q., Liu Y., Liu Z., Wang L.    1\n",
            "Koutmos D.                         1\n",
            "Będowska-Sójka B.                  1\n",
            "Marcato G., Ward C.                1\n",
            "Name: Authors, Length: 112, dtype: int64\n"
          ]
        }
      ],
      "source": [
        "import pandas as pd\n",
        "import networkx as nx\n",
        "\n",
        "\n",
        "data1 = pd.read_csv('/content/scopus 112_bidask.csv')\n",
        "data2 = pd.read_csv('/content/scopus 21bid_ask.csv')\n",
        "\n",
        "\n",
        "data = pd.concat([data1, data2], ignore_index=True)\n",
        "\n",
        "data['Authors'] = data['Authors'].apply(lambda x: x.strip()) # Remove leading/trailing whitespaces\n",
        "\n",
        "# Count the number of publications by each author\n",
        "author_counts = data['Authors'].value_counts()\n",
        "\n",
        "# Create a co-authorship network\n",
        "G = nx.Graph()\n",
        "\n",
        "# Iterate through the data and add edges for co-authorship\n",
        "for _, row in data.iterrows():\n",
        "    authors = row['Authors'].split(';')\n",
        "    for i in range(len(authors)):\n",
        "        for j in range(i+1, len(authors)):\n",
        "            G.add_edge(authors[i], authors[j])\n",
        "\n",
        "print('Author Publication Counts:')\n",
        "print(author_counts)"
      ]
    },
    {
      "cell_type": "code",
      "source": [],
      "metadata": {
        "id": "tA8QwzshbkUU"
      },
      "execution_count": null,
      "outputs": []
    }
  ]
}