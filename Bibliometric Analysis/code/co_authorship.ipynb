{
  "nbformat": 4,
  "nbformat_minor": 0,
  "metadata": {
    "colab": {
      "provenance": [],
      "include_colab_link": true
    },
    "kernelspec": {
      "name": "python3",
      "display_name": "Python 3"
    },
    "language_info": {
      "name": "python"
    }
  },
  "cells": [
    {
      "cell_type": "markdown",
      "metadata": {
        "id": "view-in-github",
        "colab_type": "text"
      },
      "source": [
        "<a href=\"https://colab.research.google.com/github/kesavakrishna/Bid-ask-spread/blob/main/Bibliometric%20Analysis/code/co_authorship.ipynb\" target=\"_parent\"><img src=\"https://colab.research.google.com/assets/colab-badge.svg\" alt=\"Open In Colab\"/></a>"
      ]
    },
    {
      "cell_type": "code",
      "execution_count": 1,
      "metadata": {
        "id": "SEyFNyxXatW-"
      },
      "outputs": [],
      "source": [
        "import pandas as pd\n",
        "import networkx as nx\n",
        "import matplotlib.pyplot as plt\n",
        "df_paper1 = pd.read_csv('/content/scopus 112_bidask.csv')\n",
        "df_paper2 = pd.read_csv('/content/scopus 21bid_ask.csv')"
      ]
    },
    {
      "cell_type": "code",
      "source": [
        "df = pd.concat([df_paper1, df_paper2])\n",
        "\n",
        "G = nx.Graph()\n",
        "\n",
        "\n",
        "for _, row in df.iterrows():\n",
        "    authors = row['Authors'].split(',')\n",
        "    affiliations = row['Affiliations']\n",
        "    if isinstance(affiliations, str):\n",
        "        affiliations = affiliations.split(',')\n",
        "    else:\n",
        "        affiliations = ['Unknown'] * len(authors)\n",
        "    for i in range(len(authors)):\n",
        "        for j in range(i + 1, len(authors)):\n",
        "            author1 = authors[i].strip()\n",
        "            author2 = authors[j].strip()\n",
        "            G.add_edge(author1, author2, affiliation=affiliations[i])\n",
        "\n",
        "print(\"Co-authorship Network Statistics:\")\n",
        "print(\"Number of nodes (authors):\", G.number_of_nodes())\n",
        "print(\"Number of edges (co-authorships):\", G.number_of_edges())\n"
      ],
      "metadata": {
        "colab": {
          "base_uri": "https://localhost:8080/"
        },
        "id": "s_25Ganobc2r",
        "outputId": "08cf92de-8d37-4ab1-834b-b9a9371f4260"
      },
      "execution_count": 2,
      "outputs": [
        {
          "output_type": "stream",
          "name": "stdout",
          "text": [
            "Co-authorship Network Statistics:\n",
            "Number of nodes (authors): 206\n",
            "Number of edges (co-authorships): 201\n"
          ]
        }
      ]
    }
  ]
}