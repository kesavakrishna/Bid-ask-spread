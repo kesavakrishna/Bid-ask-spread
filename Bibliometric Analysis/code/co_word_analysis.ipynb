{
  "nbformat": 4,
  "nbformat_minor": 0,
  "metadata": {
    "colab": {
      "provenance": [],
      "include_colab_link": true
    },
    "kernelspec": {
      "name": "python3",
      "display_name": "Python 3"
    },
    "language_info": {
      "name": "python"
    }
  },
  "cells": [
    {
      "cell_type": "markdown",
      "metadata": {
        "id": "view-in-github",
        "colab_type": "text"
      },
      "source": [
        "<a href=\"https://colab.research.google.com/github/kesavakrishna/Bid-ask-spread/blob/main/Bibliometric%20Analysis/code/co_word_analysis.ipynb\" target=\"_parent\"><img src=\"https://colab.research.google.com/assets/colab-badge.svg\" alt=\"Open In Colab\"/></a>"
      ]
    },
    {
      "cell_type": "code",
      "execution_count": 1,
      "metadata": {
        "id": "hl4cAi5IWNB_"
      },
      "outputs": [],
      "source": [
        "import pandas as pd\n",
        "from collections import defaultdict\n",
        "from sklearn.feature_extraction.text import CountVectorizer\n",
        "import networkx as nx\n",
        "\n",
        "\n",
        "df1 = pd.read_csv('/content/scopus 112_bidask.csv')\n",
        "df2 = pd.read_csv('/content/scopus 21bid_ask.csv')\n",
        "\n",
        "df = pd.concat([df1, df2])"
      ]
    },
    {
      "cell_type": "code",
      "source": [
        "\n",
        "co_occurrence = defaultdict(int)\n",
        "\n",
        "# Create a CountVectorizer to convert the abstracts into term frequency (TF) vectors\n",
        "vectorizer = CountVectorizer(stop_words='english')\n",
        "\n",
        "# Fit and transform the abstracts into TF vectors\n",
        "tf_matrix = vectorizer.fit_transform(df['Abstract'].values.astype('U'))\n",
        "\n",
        "# Extract the feature names (keywords) from the CountVectorizer\n",
        "keywords = vectorizer.get_feature_names_out()\n",
        "\n",
        "\n",
        "for i in range(tf_matrix.shape[0]):\n",
        "\n",
        "    non_zero_indices = tf_matrix[i].nonzero()[1]\n",
        "    keywords_list = [keywords[j] for j in non_zero_indices]\n",
        "    for k in range(len(keywords_list)):\n",
        "        for l in range(k + 1, len(keywords_list)):\n",
        "            keyword1 = keywords_list[k]\n",
        "            keyword2 = keywords_list[l]\n",
        "\n",
        "            key = tuple(sorted([keyword1, keyword2]))\n",
        "            co_occurrence[key] += 1\n"
      ],
      "metadata": {
        "id": "JN-nu4LsWiwR"
      },
      "execution_count": 2,
      "outputs": []
    },
    {
      "cell_type": "code",
      "source": [
        "co_occurrence_df = pd.DataFrame(list(co_occurrence.items()), columns=['Keywords', 'Co-occurrence Count'])\n",
        "\n",
        "co_occurrence_df = co_occurrence_df.sort_values(by='Co-occurrence Count', ascending=False)\n",
        "\n",
        "print('Top 10 Pairs of Keywords by Co-occurrence:')\n",
        "print(co_occurrence_df.head(10))\n",
        "\n",
        "G = nx.Graph()\n",
        "\n",
        "\n",
        "for _, row in co_occurrence_df.iterrows():\n",
        "    keyword1, keyword2 = row['Keywords']\n",
        "    weight = row['Co-occurrence Count']\n",
        "    G.add_edge(keyword1, keyword2, weight=weight)"
      ],
      "metadata": {
        "colab": {
          "base_uri": "https://localhost:8080/"
        },
        "id": "-wMkJFM6Z96J",
        "outputId": "0e709590-4853-48be-cd8c-c32d376b88d3"
      },
      "execution_count": 3,
      "outputs": [
        {
          "output_type": "stream",
          "name": "stdout",
          "text": [
            "Top 10 Pairs of Keywords by Co-occurrence:\n",
            "               Keywords  Co-occurrence Count\n",
            "1581         (ask, bid)                  120\n",
            "1710      (ask, spread)                   98\n",
            "1627      (bid, spread)                   98\n",
            "5300        (ask, data)                   72\n",
            "5231        (bid, data)                   71\n",
            "8093      (ask, market)                   67\n",
            "8037      (bid, market)                   66\n",
            "1728  (ask, estimation)                   66\n",
            "1645  (bid, estimation)                   65\n",
            "5369     (data, spread)                   62\n"
          ]
        }
      ]
    }
  ]
}