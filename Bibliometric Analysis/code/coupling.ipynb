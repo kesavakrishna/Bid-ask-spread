{
  "nbformat": 4,
  "nbformat_minor": 0,
  "metadata": {
    "colab": {
      "provenance": [],
      "include_colab_link": true
    },
    "kernelspec": {
      "name": "python3",
      "display_name": "Python 3"
    },
    "language_info": {
      "name": "python"
    }
  },
  "cells": [
    {
      "cell_type": "markdown",
      "metadata": {
        "id": "view-in-github",
        "colab_type": "text"
      },
      "source": [
        "<a href=\"https://colab.research.google.com/github/kesavakrishna/Bid-ask-spread/blob/main/Bibliometric%20Analysis/code/coupling.ipynb\" target=\"_parent\"><img src=\"https://colab.research.google.com/assets/colab-badge.svg\" alt=\"Open In Colab\"/></a>"
      ]
    },
    {
      "cell_type": "code",
      "execution_count": 3,
      "metadata": {
        "colab": {
          "base_uri": "https://localhost:8080/"
        },
        "id": "d0cnxHQ8n9Ko",
        "outputId": "2dda913f-4fc2-4582-98e2-e80bc1ddf2d5"
      },
      "outputs": [
        {
          "output_type": "stream",
          "name": "stdout",
          "text": [
            "Top 10 Pairs of References by Bibliographic Coupling:\n",
            "                                          References  Coupling Count\n",
            "0  (10.1002/1096-9934(200011)20:10<943::AID-FUT4>...               1\n"
          ]
        }
      ],
      "source": [
        "import pandas as pd\n",
        "from collections import defaultdict\n",
        "\n",
        "\n",
        "df1 = pd.read_csv('/content/scopus 112_bidask.csv')\n",
        "df2 = pd.read_csv('/content/scopus 21bid_ask.csv')\n",
        "\n",
        "\n",
        "df = pd.concat([df1, df2])\n",
        "\n",
        "bibliographic_coupling = defaultdict(int)\n",
        "\n",
        "\n",
        "for _, row in df.iterrows():\n",
        "\n",
        "    references = row['DOI'].split(';') if pd.notna(row['DOI']) else []\n",
        "\n",
        "    for i in range(len(references)):\n",
        "        for j in range(i + 1, len(references)):\n",
        "            reference1 = references[i]\n",
        "            reference2 = references[j]\n",
        "            key = tuple(sorted([reference1, reference2]))\n",
        "            bibliographic_coupling[key] += 1\n",
        "\n",
        "\n",
        "bibliographic_coupling_df = pd.DataFrame(list(bibliographic_coupling.items()), columns=['References', 'Coupling Count'])\n",
        "\n",
        "bibliographic_coupling_df = bibliographic_coupling_df.sort_values(by='Coupling Count', ascending=False)\n",
        "\n",
        "print('Top 10 Pairs of References by Bibliographic Coupling:')\n",
        "print(bibliographic_coupling_df.head(10))\n"
      ]
    }
  ]
}